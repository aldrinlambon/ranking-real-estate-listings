{
 "cells": [
  {
   "cell_type": "code",
   "execution_count": 1,
   "metadata": {},
   "outputs": [],
   "source": [
    "import numpy as np\n",
    "import pandas as pd\n",
    "import matplotlib.pyplot as plt\n",
    "\n",
    "from scipy.stats import norm\n",
    "\n",
    "from sklearn.preprocessing import StandardScaler\n",
    "from sklearn.linear_model import LinearRegression, LogisticRegression\n",
    "from sklearn.cluster import KMeans\n",
    "from sklearn.model_selection import train_test_split\n",
    "from sklearn.metrics import r2_score, mean_squared_error, classification_report"
   ]
  },
  {
   "cell_type": "code",
   "execution_count": 2,
   "metadata": {},
   "outputs": [],
   "source": [
    "def split_data(Xs,y,test_size=0.2, seed=42):\n",
    "    return train_test_split(Xs,y,test_size=test_size,random_state=seed)"
   ]
  },
  {
   "cell_type": "code",
   "execution_count": 3,
   "metadata": {
    "scrolled": false
   },
   "outputs": [
    {
     "data": {
      "text/plain": [
       "(1185, 107)"
      ]
     },
     "execution_count": 3,
     "metadata": {},
     "output_type": "execute_result"
    }
   ],
   "source": [
    "df = pd.read_csv('Real_Estate_Listings.csv')\n",
    "df.shape"
   ]
  },
  {
   "cell_type": "markdown",
   "metadata": {},
   "source": [
    "## Modeling Pipeline"
   ]
  },
  {
   "cell_type": "code",
   "execution_count": 4,
   "metadata": {},
   "outputs": [
    {
     "data": {
      "text/plain": [
       "((100, 107), (1085, 107))"
      ]
     },
     "execution_count": 4,
     "metadata": {},
     "output_type": "execute_result"
    }
   ],
   "source": [
    "np.random.seed(13422)\n",
    "test_df = df[df['ListType']=='For Sale'].sample(100)\n",
    "train_df = df.drop(test_df.index)\n",
    "test_df.shape,train_df.shape"
   ]
  },
  {
   "cell_type": "code",
   "execution_count": 5,
   "metadata": {},
   "outputs": [],
   "source": [
    "y_price = train_df['Price']\n",
    "y_listtype = np.where(train_df['ListType']=='Sold',1,0)"
   ]
  },
  {
   "cell_type": "markdown",
   "metadata": {},
   "source": [
    "Price Modeling"
   ]
  },
  {
   "cell_type": "code",
   "execution_count": 6,
   "metadata": {},
   "outputs": [
    {
     "data": {
      "text/plain": [
       "((868, 103), (217, 103))"
      ]
     },
     "execution_count": 6,
     "metadata": {},
     "output_type": "execute_result"
    }
   ],
   "source": [
    "Xs = train_df.drop(columns=['Price','ListType','Street','Tax Assessed Value']).fillna(0)\n",
    "X_train, X_valid, y_train, y_valid = split_data(Xs,y_price)\n",
    "X_train.shape, X_valid.shape"
   ]
  },
  {
   "cell_type": "code",
   "execution_count": 7,
   "metadata": {},
   "outputs": [
    {
     "data": {
      "text/plain": [
       "(0.8584961543876728, 10290572452.564112)"
      ]
     },
     "execution_count": 7,
     "metadata": {},
     "output_type": "execute_result"
    }
   ],
   "source": [
    "lin_reg = LinearRegression()\n",
    "lin_reg.fit(X_train,y_train)\n",
    "preds = lin_reg.predict(X_valid)\n",
    "r2_score(y_valid,preds), mean_squared_error(y_valid,preds)"
   ]
  },
  {
   "cell_type": "markdown",
   "metadata": {},
   "source": [
    "Acquisition Modeling"
   ]
  },
  {
   "cell_type": "code",
   "execution_count": 8,
   "metadata": {},
   "outputs": [
    {
     "data": {
      "text/plain": [
       "((868, 104), (217, 104))"
      ]
     },
     "execution_count": 8,
     "metadata": {},
     "output_type": "execute_result"
    }
   ],
   "source": [
    "Xs = train_df.drop(columns=['Price','ListType','Street']).fillna(0)\n",
    "X_train, X_valid, y_train, y_valid = split_data(Xs,y_listtype)\n",
    "X_train.shape, X_valid.shape"
   ]
  },
  {
   "cell_type": "code",
   "execution_count": 9,
   "metadata": {},
   "outputs": [
    {
     "name": "stdout",
     "output_type": "stream",
     "text": [
      "              precision    recall  f1-score   support\n",
      "\n",
      "           0       0.62      0.95      0.75       132\n",
      "           1       0.54      0.08      0.14        85\n",
      "\n",
      "    accuracy                           0.61       217\n",
      "   macro avg       0.58      0.52      0.45       217\n",
      "weighted avg       0.59      0.61      0.51       217\n",
      "\n"
     ]
    }
   ],
   "source": [
    "log_reg = LogisticRegression(random_state=23)\n",
    "log_reg.fit(X_train,y_train)\n",
    "preds = log_reg.predict(X_valid)\n",
    "print(classification_report(y_valid,preds))"
   ]
  },
  {
   "cell_type": "markdown",
   "metadata": {},
   "source": [
    "Property Clustering"
   ]
  },
  {
   "cell_type": "code",
   "execution_count": 10,
   "metadata": {},
   "outputs": [
    {
     "data": {
      "image/png": "[encoded data removed]",
      "text/plain": [
       "<Figure size 432x288 with 1 Axes>"
      ]
     },
     "metadata": {
      "needs_background": "light"
     },
     "output_type": "display_data"
    }
   ],
   "source": [
    "Xs = train_df.drop(columns=['ListType','Street']).fillna(0)\n",
    "\n",
    "metric = []\n",
    "for num_clusters in list(range(1,10)):\n",
    "    kmeans = KMeans(n_clusters=num_clusters, random_state=0).fit(Xs)\n",
    "    metric.append(kmeans.inertia_)\n",
    "\n",
    "plt.plot(range(2,len(metric)+2),metric)\n",
    "plt.ylabel('Intertia')\n",
    "plt.xlabel('# of Clusters')\n",
    "plt.show()"
   ]
  },
  {
   "cell_type": "code",
   "execution_count": 11,
   "metadata": {},
   "outputs": [
    {
     "data": {
      "text/plain": [
       "1    700\n",
       "3    328\n",
       "2     44\n",
       "0     13\n",
       "dtype: int64"
      ]
     },
     "execution_count": 11,
     "metadata": {},
     "output_type": "execute_result"
    }
   ],
   "source": [
    "kmeans = KMeans(n_clusters=4, random_state=0).fit(Xs)\n",
    "pd.Series(kmeans.labels_).value_counts()"
   ]
  },
  {
   "cell_type": "markdown",
   "metadata": {},
   "source": [
    "### Model Explainability"
   ]
  },
  {
   "cell_type": "code",
   "execution_count": 12,
   "metadata": {},
   "outputs": [
    {
     "data": {
      "text/html": [
       "<div>\n",
       "<style scoped>\n",
       "    .dataframe tbody tr th:only-of-type {\n",
       "        vertical-align: middle;\n",
       "    }\n",
       "\n",
       "    .dataframe tbody tr th {\n",
       "        vertical-align: top;\n",
       "    }\n",
       "\n",
       "    .dataframe thead th {\n",
       "        text-align: right;\n",
       "    }\n",
       "</style>\n",
       "<table border=\"1\" class=\"dataframe\">\n",
       "  <thead>\n",
       "    <tr style=\"text-align: right;\">\n",
       "      <th></th>\n",
       "      <th>Coefficient</th>\n",
       "    </tr>\n",
       "    <tr>\n",
       "      <th>Feature</th>\n",
       "      <th></th>\n",
       "    </tr>\n",
       "  </thead>\n",
       "  <tbody>\n",
       "    <tr>\n",
       "      <th>Heating: Electric</th>\n",
       "      <td>177077.163744</td>\n",
       "    </tr>\n",
       "    <tr>\n",
       "      <th>Lon</th>\n",
       "      <td>155049.166422</td>\n",
       "    </tr>\n",
       "    <tr>\n",
       "      <th>Type: Apartment</th>\n",
       "      <td>79796.872623</td>\n",
       "    </tr>\n",
       "    <tr>\n",
       "      <th>Roof: Built up</th>\n",
       "      <td>57192.678575</td>\n",
       "    </tr>\n",
       "    <tr>\n",
       "      <th>Flooring: Slate</th>\n",
       "      <td>51594.945511</td>\n",
       "    </tr>\n",
       "  </tbody>\n",
       "</table>\n",
       "</div>"
      ],
      "text/plain": [
       "                     Coefficient\n",
       "Feature                         \n",
       "Heating: Electric  177077.163744\n",
       "Lon                155049.166422\n",
       "Type: Apartment     79796.872623\n",
       "Roof: Built up      57192.678575\n",
       "Flooring: Slate     51594.945511"
      ]
     },
     "execution_count": 12,
     "metadata": {},
     "output_type": "execute_result"
    }
   ],
   "source": [
    "Xs = train_df.drop(columns=['Price','ListType','Street','Tax Assessed Value']).fillna(0)\n",
    "\n",
    "feat_coef = pd.DataFrame(Xs.columns,columns=['Feature'])\n",
    "feat_coef = feat_coef.set_index('Feature')\n",
    "feat_coef['Coefficient'] = lin_reg.coef_\n",
    "feat_coef.sort_values('Coefficient',ascending=False).head(5)"
   ]
  },
  {
   "cell_type": "code",
   "execution_count": 13,
   "metadata": {},
   "outputs": [
    {
     "data": {
      "text/html": [
       "<div>\n",
       "<style scoped>\n",
       "    .dataframe tbody tr th:only-of-type {\n",
       "        vertical-align: middle;\n",
       "    }\n",
       "\n",
       "    .dataframe tbody tr th {\n",
       "        vertical-align: top;\n",
       "    }\n",
       "\n",
       "    .dataframe thead th {\n",
       "        text-align: right;\n",
       "    }\n",
       "</style>\n",
       "<table border=\"1\" class=\"dataframe\">\n",
       "  <thead>\n",
       "    <tr style=\"text-align: right;\">\n",
       "      <th></th>\n",
       "      <th>Coefficient</th>\n",
       "    </tr>\n",
       "    <tr>\n",
       "      <th>Feature</th>\n",
       "      <th></th>\n",
       "    </tr>\n",
       "  </thead>\n",
       "  <tbody>\n",
       "    <tr>\n",
       "      <th>Total Interior Livable Area</th>\n",
       "      <td>0.001327</td>\n",
       "    </tr>\n",
       "    <tr>\n",
       "      <th>Full Bathrooms</th>\n",
       "      <td>0.000056</td>\n",
       "    </tr>\n",
       "    <tr>\n",
       "      <th>Roof: Asphalt</th>\n",
       "      <td>0.000050</td>\n",
       "    </tr>\n",
       "    <tr>\n",
       "      <th>Stories</th>\n",
       "      <td>0.000041</td>\n",
       "    </tr>\n",
       "    <tr>\n",
       "      <th>Flooring: Hardwood</th>\n",
       "      <td>0.000040</td>\n",
       "    </tr>\n",
       "  </tbody>\n",
       "</table>\n",
       "</div>"
      ],
      "text/plain": [
       "                             Coefficient\n",
       "Feature                                 \n",
       "Total Interior Livable Area     0.001327\n",
       "Full Bathrooms                  0.000056\n",
       "Roof: Asphalt                   0.000050\n",
       "Stories                         0.000041\n",
       "Flooring: Hardwood              0.000040"
      ]
     },
     "execution_count": 13,
     "metadata": {},
     "output_type": "execute_result"
    }
   ],
   "source": [
    "Xs = train_df.drop(columns=['Price','ListType','Street']).fillna(0)\n",
    "feat_coef = pd.DataFrame(Xs.columns,columns=['Feature'])\n",
    "feat_coef = feat_coef.set_index('Feature')\n",
    "feat_coef['Coefficient'] = log_reg.coef_[0]\n",
    "feat_coef.sort_values('Coefficient',ascending=False).head(5)"
   ]
  },
  {
   "cell_type": "code",
   "execution_count": 14,
   "metadata": {},
   "outputs": [
    {
     "data": {
      "text/html": [
       "<div>\n",
       "<style scoped>\n",
       "    .dataframe tbody tr th:only-of-type {\n",
       "        vertical-align: middle;\n",
       "    }\n",
       "\n",
       "    .dataframe tbody tr th {\n",
       "        vertical-align: top;\n",
       "    }\n",
       "\n",
       "    .dataframe thead th {\n",
       "        text-align: right;\n",
       "    }\n",
       "</style>\n",
       "<table border=\"1\" class=\"dataframe\">\n",
       "  <thead>\n",
       "    <tr style=\"text-align: right;\">\n",
       "      <th></th>\n",
       "      <th>0</th>\n",
       "      <th>1</th>\n",
       "      <th>2</th>\n",
       "      <th>3</th>\n",
       "    </tr>\n",
       "  </thead>\n",
       "  <tbody>\n",
       "    <tr>\n",
       "      <th>Price</th>\n",
       "      <td>1.675385e+06</td>\n",
       "      <td>89416.051429</td>\n",
       "      <td>594911.659091</td>\n",
       "      <td>215824.984756</td>\n",
       "    </tr>\n",
       "    <tr>\n",
       "      <th>Beds</th>\n",
       "      <td>5.076923e+00</td>\n",
       "      <td>3.068571</td>\n",
       "      <td>3.295455</td>\n",
       "      <td>3.378049</td>\n",
       "    </tr>\n",
       "    <tr>\n",
       "      <th>Baths</th>\n",
       "      <td>3.000000e+00</td>\n",
       "      <td>1.448571</td>\n",
       "      <td>2.556818</td>\n",
       "      <td>2.306402</td>\n",
       "    </tr>\n",
       "    <tr>\n",
       "      <th>Area</th>\n",
       "      <td>2.706462e+03</td>\n",
       "      <td>1537.531429</td>\n",
       "      <td>3136.272727</td>\n",
       "      <td>2310.591463</td>\n",
       "    </tr>\n",
       "    <tr>\n",
       "      <th>Stories</th>\n",
       "      <td>2.000000e+00</td>\n",
       "      <td>1.197143</td>\n",
       "      <td>1.659091</td>\n",
       "      <td>1.701220</td>\n",
       "    </tr>\n",
       "    <tr>\n",
       "      <th>Beds</th>\n",
       "      <td>5.076923e+00</td>\n",
       "      <td>3.068571</td>\n",
       "      <td>3.295455</td>\n",
       "      <td>3.378049</td>\n",
       "    </tr>\n",
       "    <tr>\n",
       "      <th>Baths</th>\n",
       "      <td>3.000000e+00</td>\n",
       "      <td>1.448571</td>\n",
       "      <td>2.556818</td>\n",
       "      <td>2.306402</td>\n",
       "    </tr>\n",
       "  </tbody>\n",
       "</table>\n",
       "</div>"
      ],
      "text/plain": [
       "                    0             1              2              3\n",
       "Price    1.675385e+06  89416.051429  594911.659091  215824.984756\n",
       "Beds     5.076923e+00      3.068571       3.295455       3.378049\n",
       "Baths    3.000000e+00      1.448571       2.556818       2.306402\n",
       "Area     2.706462e+03   1537.531429    3136.272727    2310.591463\n",
       "Stories  2.000000e+00      1.197143       1.659091       1.701220\n",
       "Beds     5.076923e+00      3.068571       3.295455       3.378049\n",
       "Baths    3.000000e+00      1.448571       2.556818       2.306402"
      ]
     },
     "execution_count": 14,
     "metadata": {},
     "output_type": "execute_result"
    }
   ],
   "source": [
    "Xs = train_df.drop(columns=['ListType','Street']).fillna(0)\n",
    "cluster_centers = pd.DataFrame(kmeans.cluster_centers_,columns=Xs.columns)\n",
    "cols = ['Price','Beds','Baths','Area','Stories','Beds','Baths']\n",
    "\n",
    "cluster_centers[cols].T"
   ]
  },
  {
   "cell_type": "markdown",
   "metadata": {},
   "source": [
    "### Ranking Algorithm"
   ]
  },
  {
   "cell_type": "code",
   "execution_count": 15,
   "metadata": {},
   "outputs": [
    {
     "name": "stdout",
     "output_type": "stream",
     "text": [
      "0 0.0\n",
      "1 0.42714285714285716\n",
      "2 0.1590909090909091\n",
      "3 0.4451219512195122\n"
     ]
    },
    {
     "data": {
      "text/plain": [
       "{0: 0.0, 1: 0.42714285714285716, 2: 0.1590909090909091, 3: 0.4451219512195122}"
      ]
     },
     "execution_count": 15,
     "metadata": {},
     "output_type": "execute_result"
    }
   ],
   "source": [
    "clusters = train_df.loc[:,['ListType']]\n",
    "clusters['cluster'] = kmeans.labels_\n",
    "\n",
    "def calculate_sold_probab(df):\n",
    "    sold_probab = {}\n",
    "    for cluster in sorted(df['cluster'].unique()):\n",
    "        ith_cluster = df['cluster']==cluster\n",
    "        subset = df[ith_cluster]\n",
    "        is_sold = subset['ListType']=='Sold'\n",
    "        print(cluster,len(subset[is_sold])/len(subset))\n",
    "        sold_probab[cluster] = len(subset[is_sold])/len(subset)\n",
    "    return sold_probab\n",
    "\n",
    "sold_probab_cluster = calculate_sold_probab(clusters)\n",
    "sold_probab_cluster"
   ]
  },
  {
   "cell_type": "code",
   "execution_count": 16,
   "metadata": {},
   "outputs": [
    {
     "data": {
      "image/png": "[encoded data removed]",
      "text/plain": [
       "<Figure size 432x288 with 1 Axes>"
      ]
     },
     "metadata": {
      "needs_background": "light"
     },
     "output_type": "display_data"
    }
   ],
   "source": [
    "#pricing\n",
    "Xs = test_df.drop(columns=['Price','ListType','Street','Tax Assessed Value']).fillna(0)\n",
    "predicted_price = lin_reg.predict(Xs)\n",
    "plt.hist(predicted_price,bins=100);"
   ]
  },
  {
   "cell_type": "code",
   "execution_count": 17,
   "metadata": {},
   "outputs": [
    {
     "data": {
      "image/png": "[encoded data removed]",
      "text/plain": [
       "<Figure size 432x288 with 1 Axes>"
      ]
     },
     "metadata": {
      "needs_background": "light"
     },
     "output_type": "display_data"
    }
   ],
   "source": [
    "#acquisition\n",
    "Xs = test_df.drop(columns=['Price','ListType','Street']).fillna(0)\n",
    "acquisition_probability = log_reg.predict_proba(Xs)\n",
    "plt.hist(acquisition_probability[:,1],bins=100);"
   ]
  },
  {
   "cell_type": "code",
   "execution_count": 18,
   "metadata": {},
   "outputs": [
    {
     "data": {
      "text/plain": [
       "<matplotlib.axes._subplots.AxesSubplot at 0x2966aa0e710>"
      ]
     },
     "execution_count": 18,
     "metadata": {},
     "output_type": "execute_result"
    },
    {
     "data": {
      "image/png": "[encoded data removed]",
      "text/plain": [
       "<Figure size 432x288 with 1 Axes>"
      ]
     },
     "metadata": {
      "needs_background": "light"
     },
     "output_type": "display_data"
    }
   ],
   "source": [
    "#cluster\n",
    "Xs = test_df.drop(columns=['ListType','Street']).fillna(0)\n",
    "property_clusters = kmeans.predict(Xs)\n",
    "pd.Series(property_clusters).value_counts().plot.bar()"
   ]
  },
  {
   "cell_type": "code",
   "execution_count": 19,
   "metadata": {},
   "outputs": [
    {
     "data": {
      "text/html": [
       "<div>\n",
       "<style scoped>\n",
       "    .dataframe tbody tr th:only-of-type {\n",
       "        vertical-align: middle;\n",
       "    }\n",
       "\n",
       "    .dataframe tbody tr th {\n",
       "        vertical-align: top;\n",
       "    }\n",
       "\n",
       "    .dataframe thead th {\n",
       "        text-align: right;\n",
       "    }\n",
       "</style>\n",
       "<table border=\"1\" class=\"dataframe\">\n",
       "  <thead>\n",
       "    <tr style=\"text-align: right;\">\n",
       "      <th></th>\n",
       "      <th>URL</th>\n",
       "      <th>Price</th>\n",
       "      <th>PriceEstRank</th>\n",
       "      <th>BudgetRank</th>\n",
       "      <th>SoldRank</th>\n",
       "      <th>ClusterRank</th>\n",
       "      <th>OverallRank</th>\n",
       "    </tr>\n",
       "  </thead>\n",
       "  <tbody>\n",
       "    <tr>\n",
       "      <th>45</th>\n",
       "      <td>https://www.zillow.com/homedetails/205-Westage...</td>\n",
       "      <td>79900.0</td>\n",
       "      <td>9.0</td>\n",
       "      <td>27.0</td>\n",
       "      <td>24.0</td>\n",
       "      <td>41.0</td>\n",
       "      <td>1.0</td>\n",
       "    </tr>\n",
       "    <tr>\n",
       "      <th>4</th>\n",
       "      <td>https://www.zillow.com/homedetails/103-Marion-...</td>\n",
       "      <td>795000.0</td>\n",
       "      <td>1.0</td>\n",
       "      <td>95.5</td>\n",
       "      <td>3.0</td>\n",
       "      <td>7.5</td>\n",
       "      <td>2.0</td>\n",
       "    </tr>\n",
       "    <tr>\n",
       "      <th>99</th>\n",
       "      <td>https://www.zillow.com/homedetails/820-Eastbro...</td>\n",
       "      <td>119903.0</td>\n",
       "      <td>11.0</td>\n",
       "      <td>44.0</td>\n",
       "      <td>13.0</td>\n",
       "      <td>41.0</td>\n",
       "      <td>3.5</td>\n",
       "    </tr>\n",
       "    <tr>\n",
       "      <th>88</th>\n",
       "      <td>https://www.zillow.com/homedetails/76-Oriole-S...</td>\n",
       "      <td>795000.0</td>\n",
       "      <td>2.0</td>\n",
       "      <td>95.5</td>\n",
       "      <td>4.0</td>\n",
       "      <td>7.5</td>\n",
       "      <td>3.5</td>\n",
       "    </tr>\n",
       "    <tr>\n",
       "      <th>95</th>\n",
       "      <td>https://www.zillow.com/homedetails/1048-N-Clin...</td>\n",
       "      <td>70000.0</td>\n",
       "      <td>3.0</td>\n",
       "      <td>24.0</td>\n",
       "      <td>60.0</td>\n",
       "      <td>41.0</td>\n",
       "      <td>5.0</td>\n",
       "    </tr>\n",
       "    <tr>\n",
       "      <th>56</th>\n",
       "      <td>https://www.zillow.com/homedetails/61-Weaver-S...</td>\n",
       "      <td>57900.0</td>\n",
       "      <td>13.0</td>\n",
       "      <td>17.0</td>\n",
       "      <td>67.0</td>\n",
       "      <td>41.0</td>\n",
       "      <td>6.0</td>\n",
       "    </tr>\n",
       "    <tr>\n",
       "      <th>35</th>\n",
       "      <td>https://www.zillow.com/homedetails/967-Cliffor...</td>\n",
       "      <td>54900.0</td>\n",
       "      <td>12.0</td>\n",
       "      <td>13.5</td>\n",
       "      <td>72.0</td>\n",
       "      <td>41.0</td>\n",
       "      <td>7.0</td>\n",
       "    </tr>\n",
       "    <tr>\n",
       "      <th>66</th>\n",
       "      <td>https://www.zillow.com/homedetails/39-Locust-S...</td>\n",
       "      <td>9900.0</td>\n",
       "      <td>5.0</td>\n",
       "      <td>1.0</td>\n",
       "      <td>92.0</td>\n",
       "      <td>41.0</td>\n",
       "      <td>8.0</td>\n",
       "    </tr>\n",
       "    <tr>\n",
       "      <th>71</th>\n",
       "      <td>https://www.zillow.com/homedetails/163-Merrill...</td>\n",
       "      <td>94811.0</td>\n",
       "      <td>35.0</td>\n",
       "      <td>36.0</td>\n",
       "      <td>32.0</td>\n",
       "      <td>41.0</td>\n",
       "      <td>9.5</td>\n",
       "    </tr>\n",
       "    <tr>\n",
       "      <th>27</th>\n",
       "      <td>https://www.zillow.com/homedetails/48-Kramer-S...</td>\n",
       "      <td>133000.0</td>\n",
       "      <td>14.0</td>\n",
       "      <td>55.0</td>\n",
       "      <td>34.0</td>\n",
       "      <td>41.0</td>\n",
       "      <td>9.5</td>\n",
       "    </tr>\n",
       "  </tbody>\n",
       "</table>\n",
       "</div>"
      ],
      "text/plain": [
       "                                                  URL     Price  PriceEstRank  \\\n",
       "45  https://www.zillow.com/homedetails/205-Westage...   79900.0           9.0   \n",
       "4   https://www.zillow.com/homedetails/103-Marion-...  795000.0           1.0   \n",
       "99  https://www.zillow.com/homedetails/820-Eastbro...  119903.0          11.0   \n",
       "88  https://www.zillow.com/homedetails/76-Oriole-S...  795000.0           2.0   \n",
       "95  https://www.zillow.com/homedetails/1048-N-Clin...   70000.0           3.0   \n",
       "56  https://www.zillow.com/homedetails/61-Weaver-S...   57900.0          13.0   \n",
       "35  https://www.zillow.com/homedetails/967-Cliffor...   54900.0          12.0   \n",
       "66  https://www.zillow.com/homedetails/39-Locust-S...    9900.0           5.0   \n",
       "71  https://www.zillow.com/homedetails/163-Merrill...   94811.0          35.0   \n",
       "27  https://www.zillow.com/homedetails/48-Kramer-S...  133000.0          14.0   \n",
       "\n",
       "    BudgetRank  SoldRank  ClusterRank  OverallRank  \n",
       "45        27.0      24.0         41.0          1.0  \n",
       "4         95.5       3.0          7.5          2.0  \n",
       "99        44.0      13.0         41.0          3.5  \n",
       "88        95.5       4.0          7.5          3.5  \n",
       "95        24.0      60.0         41.0          5.0  \n",
       "56        17.0      67.0         41.0          6.0  \n",
       "35        13.5      72.0         41.0          7.0  \n",
       "66         1.0      92.0         41.0          8.0  \n",
       "71        36.0      32.0         41.0          9.5  \n",
       "27        55.0      34.0         41.0          9.5  "
      ]
     },
     "execution_count": 19,
     "metadata": {},
     "output_type": "execute_result"
    }
   ],
   "source": [
    "results = pd.read_csv('Key.csv')\n",
    "results = results.loc[test_df.index,['URL','Price']].reset_index(drop=True)\n",
    "\n",
    "budget = 1e6 # $1M \n",
    "\n",
    "results['PriceEstRank'] = (results['Price']-pd.Series(predicted_price)).rank()\n",
    "results['BudgetRank'] = (results['Price']-[budget]*len(results)).rank()\n",
    "results['SoldRank'] = pd.Series(acquisition_probability[:,1]).rank()\n",
    "results['ClusterRank'] = pd.Series(property_clusters).map(sold_probab_cluster).rank()\n",
    "\n",
    "results['OverallRank'] = results[['PriceEstRank','SoldRank','ClusterRank','BudgetRank']].mean(axis=1).rank()\n",
    "results = results.sort_values(['OverallRank'],ascending=True)\n",
    "\n",
    "results.to_csv('Recommendations.csv',index=False)\n",
    "results.head(10)"
   ]
  }
 ],
 "metadata": {
  "kernelspec": {
   "display_name": "Python 3",
   "language": "python",
   "name": "python3"
  },
  "language_info": {
   "codemirror_mode": {
    "name": "ipython",
    "version": 3
   },
   "file_extension": ".py",
   "mimetype": "text/x-python",
   "name": "python",
   "nbconvert_exporter": "python",
   "pygments_lexer": "ipython3",
   "version": "3.6.8"
  }
 },
 "nbformat": 4,
 "nbformat_minor": 4
}
