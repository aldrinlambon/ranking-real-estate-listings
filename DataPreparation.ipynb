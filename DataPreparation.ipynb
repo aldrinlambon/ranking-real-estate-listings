{
 "cells": [
  {
   "cell_type": "code",
   "execution_count": 1,
   "metadata": {},
   "outputs": [],
   "source": [
    "import numpy as np\n",
    "import pandas as pd\n",
    "import matplotlib.pyplot as plt"
   ]
  },
  {
   "cell_type": "code",
   "execution_count": 2,
   "metadata": {},
   "outputs": [],
   "source": [
    "def lot_conversion(lot):\n",
    "    if isinstance(lot,str):\n",
    "        if 'No' in lot:\n",
    "            return np.nan\n",
    "        lot,unit = lot.split(' ')\n",
    "        lot = float(lot.replace(',',''))\n",
    "        if unit=='acres':\n",
    "            lot*=43560\n",
    "    return lot\n",
    "\n",
    "def clean_price(value):\n",
    "    if isinstance(value,str):\n",
    "        if 'No' in value:\n",
    "            return np.nan\n",
    "        value = value.replace('$','')\n",
    "        value = value.replace(',','')\n",
    "        value = float(value)\n",
    "    return value"
   ]
  },
  {
   "cell_type": "code",
   "execution_count": 3,
   "metadata": {},
   "outputs": [],
   "source": [
    "for_sale = pd.read_csv('for_sale_raw.csv')\n",
    "for_sale['ListType'] = 'For Sale'\n",
    "sold = pd.read_csv('sold_raw.csv')\n",
    "sold['ListType'] = 'Sold'\n",
    "\n",
    "df = pd.concat([for_sale,sold],axis=0)"
   ]
  },
  {
   "cell_type": "code",
   "execution_count": 4,
   "metadata": {},
   "outputs": [
    {
     "data": {
      "text/plain": [
       "(1515, 31)"
      ]
     },
     "execution_count": 4,
     "metadata": {},
     "output_type": "execute_result"
    }
   ],
   "source": [
    "keep = ['Price','ListType','Street','State','City','Zipcode',\n",
    "        'Beds', 'Baths','Area', 'Latlong','Type', 'Year Built',\n",
    "        'Heating', 'Cooling','Parking', 'Lot', 'Price/Sqft',\n",
    "        'Full Bathrooms', '3/4 Bathrooms','1/2 Bathrooms', '1/4 Bathrooms',\n",
    "        'Basement', 'Flooring','Heating Features', 'Total Interior Livable Area',\n",
    "        'Fireplace', 'Parking Features', 'Stories', 'Exterior Features',\n",
    "        'Roof','Tax Assessed Value']\n",
    "df = df[keep]\n",
    "df.shape"
   ]
  },
  {
   "cell_type": "code",
   "execution_count": 5,
   "metadata": {},
   "outputs": [
    {
     "data": {
      "text/plain": [
       "(1216, 29)"
      ]
     },
     "execution_count": 5,
     "metadata": {},
     "output_type": "execute_result"
    }
   ],
   "source": [
    "city = df['City']=='Rochester'\n",
    "df = df[city]\n",
    "df.drop(columns=['City','State'],inplace=True)\n",
    "df.shape"
   ]
  },
  {
   "cell_type": "code",
   "execution_count": 6,
   "metadata": {},
   "outputs": [
    {
     "data": {
      "text/plain": [
       "(1216, 30)"
      ]
     },
     "execution_count": 6,
     "metadata": {},
     "output_type": "execute_result"
    }
   ],
   "source": [
    "df[['Lat','Lon']] = df['Latlong'].str.split(', ',expand=True)\n",
    "\n",
    "df['Lat'] = df['Lat'].str.split(': ').str[-1]\n",
    "df['Lon'] = df['Lon'].str.split(': ').str[-1].str.replace('}','')\n",
    "\n",
    "df['Lat'] = pd.to_numeric(df['Lat'])\n",
    "df['Lon'] = pd.to_numeric(df['Lon'])\n",
    "\n",
    "df.drop(columns=['Latlong'],inplace=True)\n",
    "df.shape"
   ]
  },
  {
   "cell_type": "code",
   "execution_count": 7,
   "metadata": {},
   "outputs": [
    {
     "data": {
      "text/html": [
       "<div>\n",
       "<style scoped>\n",
       "    .dataframe tbody tr th:only-of-type {\n",
       "        vertical-align: middle;\n",
       "    }\n",
       "\n",
       "    .dataframe tbody tr th {\n",
       "        vertical-align: top;\n",
       "    }\n",
       "\n",
       "    .dataframe thead th {\n",
       "        text-align: right;\n",
       "    }\n",
       "</style>\n",
       "<table border=\"1\" class=\"dataframe\">\n",
       "  <thead>\n",
       "    <tr style=\"text-align: right;\">\n",
       "      <th></th>\n",
       "      <th>Year Built</th>\n",
       "      <th>Lot</th>\n",
       "      <th>Price/Sqft</th>\n",
       "      <th>Total Interior Livable Area</th>\n",
       "      <th>Tax Assessed Value</th>\n",
       "    </tr>\n",
       "  </thead>\n",
       "  <tbody>\n",
       "    <tr>\n",
       "      <th>0</th>\n",
       "      <td>1890</td>\n",
       "      <td>4,891 sqft</td>\n",
       "      <td>$21</td>\n",
       "      <td>1,932 sqft</td>\n",
       "      <td>$30,612</td>\n",
       "    </tr>\n",
       "    <tr>\n",
       "      <th>1</th>\n",
       "      <td>1955</td>\n",
       "      <td>0.34 acres</td>\n",
       "      <td>$130</td>\n",
       "      <td>1,188 sqft</td>\n",
       "      <td>$115,000</td>\n",
       "    </tr>\n",
       "    <tr>\n",
       "      <th>2</th>\n",
       "      <td>1900</td>\n",
       "      <td>4,207 sqft</td>\n",
       "      <td>$25</td>\n",
       "      <td>1,316 sqft</td>\n",
       "      <td>$23,980</td>\n",
       "    </tr>\n",
       "    <tr>\n",
       "      <th>3</th>\n",
       "      <td>1940</td>\n",
       "      <td>6,484 sqft</td>\n",
       "      <td>$94</td>\n",
       "      <td>1,327 sqft</td>\n",
       "      <td>$78,571</td>\n",
       "    </tr>\n",
       "    <tr>\n",
       "      <th>4</th>\n",
       "      <td>1950</td>\n",
       "      <td>0.3 acres</td>\n",
       "      <td>$87</td>\n",
       "      <td>1,376 sqft</td>\n",
       "      <td>$97,200</td>\n",
       "    </tr>\n",
       "  </tbody>\n",
       "</table>\n",
       "</div>"
      ],
      "text/plain": [
       "  Year Built         Lot Price/Sqft Total Interior Livable Area  \\\n",
       "0       1890  4,891 sqft        $21                  1,932 sqft   \n",
       "1       1955  0.34 acres       $130                  1,188 sqft   \n",
       "2       1900  4,207 sqft        $25                  1,316 sqft   \n",
       "3       1940  6,484 sqft        $94                  1,327 sqft   \n",
       "4       1950   0.3 acres        $87                  1,376 sqft   \n",
       "\n",
       "  Tax Assessed Value  \n",
       "0            $30,612  \n",
       "1           $115,000  \n",
       "2            $23,980  \n",
       "3            $78,571  \n",
       "4            $97,200  "
      ]
     },
     "execution_count": 7,
     "metadata": {},
     "output_type": "execute_result"
    }
   ],
   "source": [
    "to_numeric = ['Year Built','Lot','Price/Sqft',\n",
    "               'Total Interior Livable Area','Tax Assessed Value']\n",
    "df[to_numeric].head()"
   ]
  },
  {
   "cell_type": "code",
   "execution_count": 8,
   "metadata": {},
   "outputs": [
    {
     "data": {
      "text/html": [
       "<div>\n",
       "<style scoped>\n",
       "    .dataframe tbody tr th:only-of-type {\n",
       "        vertical-align: middle;\n",
       "    }\n",
       "\n",
       "    .dataframe tbody tr th {\n",
       "        vertical-align: top;\n",
       "    }\n",
       "\n",
       "    .dataframe thead th {\n",
       "        text-align: right;\n",
       "    }\n",
       "</style>\n",
       "<table border=\"1\" class=\"dataframe\">\n",
       "  <thead>\n",
       "    <tr style=\"text-align: right;\">\n",
       "      <th></th>\n",
       "      <th>Year Built</th>\n",
       "      <th>Lot</th>\n",
       "      <th>Price/Sqft</th>\n",
       "      <th>Total Interior Livable Area</th>\n",
       "      <th>Tax Assessed Value</th>\n",
       "    </tr>\n",
       "  </thead>\n",
       "  <tbody>\n",
       "    <tr>\n",
       "      <th>0</th>\n",
       "      <td>1890.0</td>\n",
       "      <td>4891.0</td>\n",
       "      <td>21.0</td>\n",
       "      <td>1932.0</td>\n",
       "      <td>30612.0</td>\n",
       "    </tr>\n",
       "    <tr>\n",
       "      <th>1</th>\n",
       "      <td>1955.0</td>\n",
       "      <td>14810.4</td>\n",
       "      <td>130.0</td>\n",
       "      <td>1188.0</td>\n",
       "      <td>115000.0</td>\n",
       "    </tr>\n",
       "    <tr>\n",
       "      <th>2</th>\n",
       "      <td>1900.0</td>\n",
       "      <td>4207.0</td>\n",
       "      <td>25.0</td>\n",
       "      <td>1316.0</td>\n",
       "      <td>23980.0</td>\n",
       "    </tr>\n",
       "    <tr>\n",
       "      <th>3</th>\n",
       "      <td>1940.0</td>\n",
       "      <td>6484.0</td>\n",
       "      <td>94.0</td>\n",
       "      <td>1327.0</td>\n",
       "      <td>78571.0</td>\n",
       "    </tr>\n",
       "    <tr>\n",
       "      <th>4</th>\n",
       "      <td>1950.0</td>\n",
       "      <td>13068.0</td>\n",
       "      <td>87.0</td>\n",
       "      <td>1376.0</td>\n",
       "      <td>97200.0</td>\n",
       "    </tr>\n",
       "  </tbody>\n",
       "</table>\n",
       "</div>"
      ],
      "text/plain": [
       "   Year Built      Lot  Price/Sqft  Total Interior Livable Area  \\\n",
       "0      1890.0   4891.0        21.0                       1932.0   \n",
       "1      1955.0  14810.4       130.0                       1188.0   \n",
       "2      1900.0   4207.0        25.0                       1316.0   \n",
       "3      1940.0   6484.0        94.0                       1327.0   \n",
       "4      1950.0  13068.0        87.0                       1376.0   \n",
       "\n",
       "   Tax Assessed Value  \n",
       "0             30612.0  \n",
       "1            115000.0  \n",
       "2             23980.0  \n",
       "3             78571.0  \n",
       "4             97200.0  "
      ]
     },
     "execution_count": 8,
     "metadata": {},
     "output_type": "execute_result"
    }
   ],
   "source": [
    "df['Year Built'] = pd.to_numeric(df['Year Built'],errors='coerce')\n",
    "\n",
    "df['Lot'] = df['Lot'].apply(lot_conversion)\n",
    "df['Total Interior Livable Area'] = df['Total Interior Livable Area'].apply(lot_conversion)\n",
    "\n",
    "df['Price/Sqft'] = df['Price/Sqft'].apply(clean_price)\n",
    "df['Tax Assessed Value'] = df['Tax Assessed Value'].apply(clean_price)\n",
    "\n",
    "df[to_numeric].head()"
   ]
  }
 ],
 "metadata": {
  "kernelspec": {
   "display_name": "Python 3",
   "language": "python",
   "name": "python3"
  },
  "language_info": {
   "codemirror_mode": {
    "name": "ipython",
    "version": 3
   },
   "file_extension": ".py",
   "mimetype": "text/x-python",
   "name": "python",
   "nbconvert_exporter": "python",
   "pygments_lexer": "ipython3",
   "version": "3.6.8"
  }
 },
 "nbformat": 4,
 "nbformat_minor": 4
}
